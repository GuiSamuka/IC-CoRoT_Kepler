{
 "cells": [
  {
   "cell_type": "code",
   "execution_count": 6,
   "id": "meaningful-binding",
   "metadata": {},
   "outputs": [
    {
     "name": "stdout",
     "output_type": "stream",
     "text": [
      "Processing c:\\users\\guisa\\desktop\\imt-lightcurve\\dist\\imt_lightcurve-1.2-py3-none-any.whl\n",
      "Requirement already satisfied: lightkurve==2.0.10 in c:\\users\\guisa\\appdata\\local\\programs\\python\\python38\\lib\\site-packages (from imt-lightcurve==1.2) (2.0.10)\n",
      "Requirement already satisfied: control==0.9.0 in c:\\users\\guisa\\appdata\\local\\programs\\python\\python38\\lib\\site-packages (from imt-lightcurve==1.2) (0.9.0)\n",
      "Requirement already satisfied: numpy in c:\\users\\guisa\\appdata\\local\\programs\\python\\python38\\lib\\site-packages (from control==0.9.0->imt-lightcurve==1.2) (1.21.2)\n",
      "Requirement already satisfied: matplotlib in c:\\users\\guisa\\appdata\\local\\programs\\python\\python38\\lib\\site-packages (from control==0.9.0->imt-lightcurve==1.2) (3.4.3)\n",
      "Requirement already satisfied: scipy in c:\\users\\guisa\\appdata\\local\\programs\\python\\python38\\lib\\site-packages (from control==0.9.0->imt-lightcurve==1.2) (1.7.1)\n",
      "Requirement already satisfied: astroquery>=0.3.10 in c:\\users\\guisa\\appdata\\local\\programs\\python\\python38\\lib\\site-packages (from lightkurve==2.0.10->imt-lightcurve==1.2) (0.4.3)\n",
      "Requirement already satisfied: patsy>=0.5.0 in c:\\users\\guisa\\appdata\\local\\programs\\python\\python38\\lib\\site-packages (from lightkurve==2.0.10->imt-lightcurve==1.2) (0.5.1)\n",
      "Requirement already satisfied: scikit-learn>=0.24.0 in c:\\users\\guisa\\appdata\\local\\programs\\python\\python38\\lib\\site-packages (from lightkurve==2.0.10->imt-lightcurve==1.2) (0.24.2)\n",
      "Requirement already satisfied: bokeh>=1.0 in c:\\users\\guisa\\appdata\\local\\programs\\python\\python38\\lib\\site-packages (from lightkurve==2.0.10->imt-lightcurve==1.2) (2.3.3)\n",
      "Requirement already satisfied: memoization>=0.3.1 in c:\\users\\guisa\\appdata\\local\\programs\\python\\python38\\lib\\site-packages (from lightkurve==2.0.10->imt-lightcurve==1.2) (0.4.0)\n",
      "Requirement already satisfied: oktopus>=0.1.2 in c:\\users\\guisa\\appdata\\local\\programs\\python\\python38\\lib\\site-packages (from lightkurve==2.0.10->imt-lightcurve==1.2) (0.1.2)\n",
      "Requirement already satisfied: pandas>=1.1.4 in c:\\users\\guisa\\appdata\\local\\programs\\python\\python38\\lib\\site-packages (from lightkurve==2.0.10->imt-lightcurve==1.2) (1.3.3)\n",
      "Requirement already satisfied: requests>=2.22.0 in c:\\users\\guisa\\appdata\\local\\programs\\python\\python38\\lib\\site-packages (from lightkurve==2.0.10->imt-lightcurve==1.2) (2.26.0)\n",
      "Requirement already satisfied: uncertainties>=3.1.4 in c:\\users\\guisa\\appdata\\local\\programs\\python\\python38\\lib\\site-packages (from lightkurve==2.0.10->imt-lightcurve==1.2) (3.1.6)\n",
      "Requirement already satisfied: tqdm>=4.25.0 in c:\\users\\guisa\\appdata\\local\\programs\\python\\python38\\lib\\site-packages (from lightkurve==2.0.10->imt-lightcurve==1.2) (4.62.2)\n",
      "Requirement already satisfied: fbpca>=1.0 in c:\\users\\guisa\\appdata\\local\\programs\\python\\python38\\lib\\site-packages (from lightkurve==2.0.10->imt-lightcurve==1.2) (1.0)\n",
      "Requirement already satisfied: astropy>=4.1 in c:\\users\\guisa\\appdata\\local\\programs\\python\\python38\\lib\\site-packages (from lightkurve==2.0.10->imt-lightcurve==1.2) (4.3.1)\n",
      "Requirement already satisfied: beautifulsoup4>=4.6.0 in c:\\users\\guisa\\appdata\\local\\programs\\python\\python38\\lib\\site-packages (from lightkurve==2.0.10->imt-lightcurve==1.2) (4.10.0)\n",
      "Requirement already satisfied: pyerfa>=1.7.3 in c:\\users\\guisa\\appdata\\local\\programs\\python\\python38\\lib\\site-packages (from astropy>=4.1->lightkurve==2.0.10->imt-lightcurve==1.2) (2.0.0)\n",
      "Requirement already satisfied: html5lib>=0.999 in c:\\users\\guisa\\appdata\\local\\programs\\python\\python38\\lib\\site-packages (from astroquery>=0.3.10->lightkurve==2.0.10->imt-lightcurve==1.2) (1.1)\n",
      "Requirement already satisfied: pyvo>=1.1 in c:\\users\\guisa\\appdata\\local\\programs\\python\\python38\\lib\\site-packages (from astroquery>=0.3.10->lightkurve==2.0.10->imt-lightcurve==1.2) (1.1)\n",
      "Requirement already satisfied: keyring>=4.0 in c:\\users\\guisa\\appdata\\local\\programs\\python\\python38\\lib\\site-packages (from astroquery>=0.3.10->lightkurve==2.0.10->imt-lightcurve==1.2) (23.2.1)\n",
      "Requirement already satisfied: six in c:\\users\\guisa\\appdata\\local\\programs\\python\\python38\\lib\\site-packages (from astroquery>=0.3.10->lightkurve==2.0.10->imt-lightcurve==1.2) (1.16.0)\n",
      "Requirement already satisfied: soupsieve>1.2 in c:\\users\\guisa\\appdata\\local\\programs\\python\\python38\\lib\\site-packages (from beautifulsoup4>=4.6.0->lightkurve==2.0.10->imt-lightcurve==1.2) (2.2.1)\n",
      "Requirement already satisfied: typing-extensions>=3.7.4 in c:\\users\\guisa\\appdata\\local\\programs\\python\\python38\\lib\\site-packages (from bokeh>=1.0->lightkurve==2.0.10->imt-lightcurve==1.2) (3.10.0.2)\n",
      "Requirement already satisfied: pillow>=7.1.0 in c:\\users\\guisa\\appdata\\local\\programs\\python\\python38\\lib\\site-packages (from bokeh>=1.0->lightkurve==2.0.10->imt-lightcurve==1.2) (8.3.2)\n",
      "Requirement already satisfied: python-dateutil>=2.1 in c:\\users\\guisa\\appdata\\local\\programs\\python\\python38\\lib\\site-packages (from bokeh>=1.0->lightkurve==2.0.10->imt-lightcurve==1.2) (2.8.2)\n",
      "Requirement already satisfied: tornado>=5.1 in c:\\users\\guisa\\appdata\\local\\programs\\python\\python38\\lib\\site-packages (from bokeh>=1.0->lightkurve==2.0.10->imt-lightcurve==1.2) (6.1)\n",
      "Requirement already satisfied: packaging>=16.8 in c:\\users\\guisa\\appdata\\local\\programs\\python\\python38\\lib\\site-packages (from bokeh>=1.0->lightkurve==2.0.10->imt-lightcurve==1.2) (21.0)\n",
      "Requirement already satisfied: PyYAML>=3.10 in c:\\users\\guisa\\appdata\\local\\programs\\python\\python38\\lib\\site-packages (from bokeh>=1.0->lightkurve==2.0.10->imt-lightcurve==1.2) (5.4.1)\n",
      "Requirement already satisfied: Jinja2>=2.9 in c:\\users\\guisa\\appdata\\local\\programs\\python\\python38\\lib\\site-packages (from bokeh>=1.0->lightkurve==2.0.10->imt-lightcurve==1.2) (2.11.0)\n",
      "Requirement already satisfied: webencodings in c:\\users\\guisa\\appdata\\local\\programs\\python\\python38\\lib\\site-packages (from html5lib>=0.999->astroquery>=0.3.10->lightkurve==2.0.10->imt-lightcurve==1.2) (0.5.1)\n",
      "Requirement already satisfied: MarkupSafe>=0.23 in c:\\users\\guisa\\appdata\\local\\programs\\python\\python38\\lib\\site-packages (from Jinja2>=2.9->bokeh>=1.0->lightkurve==2.0.10->imt-lightcurve==1.2) (2.0.1)\n",
      "Requirement already satisfied: pywin32-ctypes!=0.1.0,!=0.1.1 in c:\\users\\guisa\\appdata\\local\\programs\\python\\python38\\lib\\site-packages (from keyring>=4.0->astroquery>=0.3.10->lightkurve==2.0.10->imt-lightcurve==1.2) (0.2.0)\n",
      "Requirement already satisfied: importlib-metadata>=3.6 in c:\\users\\guisa\\appdata\\local\\programs\\python\\python38\\lib\\site-packages (from keyring>=4.0->astroquery>=0.3.10->lightkurve==2.0.10->imt-lightcurve==1.2) (4.8.1)\n",
      "Requirement already satisfied: zipp>=0.5 in c:\\users\\guisa\\appdata\\local\\programs\\python\\python38\\lib\\site-packages (from importlib-metadata>=3.6->keyring>=4.0->astroquery>=0.3.10->lightkurve==2.0.10->imt-lightcurve==1.2) (3.6.0)\n",
      "Requirement already satisfied: cycler>=0.10 in c:\\users\\guisa\\appdata\\local\\programs\\python\\python38\\lib\\site-packages (from matplotlib->control==0.9.0->imt-lightcurve==1.2) (0.10.0)\n",
      "Requirement already satisfied: pyparsing>=2.2.1 in c:\\users\\guisa\\appdata\\local\\programs\\python\\python38\\lib\\site-packages (from matplotlib->control==0.9.0->imt-lightcurve==1.2) (2.4.7)\n",
      "Requirement already satisfied: kiwisolver>=1.0.1 in c:\\users\\guisa\\appdata\\local\\programs\\python\\python38\\lib\\site-packages (from matplotlib->control==0.9.0->imt-lightcurve==1.2) (1.3.2)\n",
      "Requirement already satisfied: autograd in c:\\users\\guisa\\appdata\\local\\programs\\python\\python38\\lib\\site-packages (from oktopus>=0.1.2->lightkurve==2.0.10->imt-lightcurve==1.2) (1.3)\n",
      "Requirement already satisfied: pytz>=2017.3 in c:\\users\\guisa\\appdata\\local\\programs\\python\\python38\\lib\\site-packages (from pandas>=1.1.4->lightkurve==2.0.10->imt-lightcurve==1.2) (2021.1)\n",
      "Requirement already satisfied: mimeparse in c:\\users\\guisa\\appdata\\local\\programs\\python\\python38\\lib\\site-packages (from pyvo>=1.1->astroquery>=0.3.10->lightkurve==2.0.10->imt-lightcurve==1.2) (0.1.3)\n",
      "Requirement already satisfied: idna<4,>=2.5 in c:\\users\\guisa\\appdata\\local\\programs\\python\\python38\\lib\\site-packages (from requests>=2.22.0->lightkurve==2.0.10->imt-lightcurve==1.2) (3.3)\n",
      "Requirement already satisfied: charset-normalizer~=2.0.0 in c:\\users\\guisa\\appdata\\local\\programs\\python\\python38\\lib\\site-packages (from requests>=2.22.0->lightkurve==2.0.10->imt-lightcurve==1.2) (2.0.7)\n",
      "Requirement already satisfied: urllib3<1.27,>=1.21.1 in c:\\users\\guisa\\appdata\\local\\programs\\python\\python38\\lib\\site-packages (from requests>=2.22.0->lightkurve==2.0.10->imt-lightcurve==1.2) (1.26.7)\n",
      "Requirement already satisfied: certifi>=2017.4.17 in c:\\users\\guisa\\appdata\\local\\programs\\python\\python38\\lib\\site-packages (from requests>=2.22.0->lightkurve==2.0.10->imt-lightcurve==1.2) (2021.10.8)\n",
      "Requirement already satisfied: joblib>=0.11 in c:\\users\\guisa\\appdata\\local\\programs\\python\\python38\\lib\\site-packages (from scikit-learn>=0.24.0->lightkurve==2.0.10->imt-lightcurve==1.2) (1.0.1)\n",
      "Requirement already satisfied: threadpoolctl>=2.0.0 in c:\\users\\guisa\\appdata\\local\\programs\\python\\python38\\lib\\site-packages (from scikit-learn>=0.24.0->lightkurve==2.0.10->imt-lightcurve==1.2) (2.2.0)\n",
      "Requirement already satisfied: colorama in c:\\users\\guisa\\appdata\\local\\programs\\python\\python38\\lib\\site-packages (from tqdm>=4.25.0->lightkurve==2.0.10->imt-lightcurve==1.2) (0.4.4)\n",
      "Requirement already satisfied: future in c:\\users\\guisa\\appdata\\local\\programs\\python\\python38\\lib\\site-packages (from uncertainties>=3.1.4->lightkurve==2.0.10->imt-lightcurve==1.2) (0.18.2)\n",
      "imt-lightcurve is already installed with the same version as the provided wheel. Use --force-reinstall to force an installation of the wheel.\n"
     ]
    }
   ],
   "source": [
    "!pip install \"C:\\Users\\guisa\\Desktop\\IMT-LightCurve\\dist\\imt_lightcurve-1.2-py3-none-any.whl\""
   ]
  },
  {
   "cell_type": "code",
   "execution_count": 7,
   "id": "steady-participation",
   "metadata": {},
   "outputs": [],
   "source": [
    "import pandas as pd\n",
    "import numpy as np\n",
    "from imt_lightcurve.models.lightcurve import LightCurve\n",
    "\n",
    "# Chosen lightcurve\n",
    "LIGHTCURVE = 'RESAMPLED_0101086161_20070516T060226'\n",
    "\n",
    "# Importing lightcurve data from github\n",
    "data = pd.read_csv('https://raw.githubusercontent.com/Guilherme-SSB/IC-CoRoT_Kepler/main/resampled_files/' + LIGHTCURVE + '.csv')\n",
    "time = data.DATE.to_numpy()\n",
    "flux = data.WHITEFLUX.to_numpy()\n",
    "\n",
    "# Create the LightCurve object\n",
    "curve = LightCurve(time=time, flux=flux)"
   ]
  },
  {
   "cell_type": "code",
   "execution_count": 8,
   "id": "novel-brick",
   "metadata": {},
   "outputs": [],
   "source": [
    "import pandas as pd\n",
    "import numpy as np\n",
    "from imt_lightcurve.models.lightcurve import LightCurve\n",
    "\n",
    "# Chosen lightcurve\n",
    "LIGHTCURVE = 'RESAMPLED_0101086161_20070516T060226'\n",
    "\n",
    "# Importing lightcurve data from github\n",
    "data = pd.read_csv('https://raw.githubusercontent.com/Guilherme-SSB/IC-CoRoT_Kepler/main/resampled_files/' + LIGHTCURVE + '.csv')\n",
    "time = data.DATE.to_numpy()\n",
    "flux = data.WHITEFLUX.to_numpy()\n",
    "\n",
    "# Create the LightCurve object\n",
    "curve = LightCurve(time=time, flux=flux)\n",
    "# curve.plot()"
   ]
  },
  {
   "cell_type": "code",
   "execution_count": 9,
   "id": "particular-influence",
   "metadata": {},
   "outputs": [
    {
     "name": "stdout",
     "output_type": "stream",
     "text": [
      "Help on method fold in module imt_lightcurve.models.lightcurve:\n",
      "\n",
      "fold(smooth_curve: bool = False, window: float = 0.15, window_filter: int = 201, order_filter: int = 3) method of imt_lightcurve.models.lightcurve.LightCurve instance\n",
      "\n"
     ]
    }
   ],
   "source": [
    "help(curve.fold)"
   ]
  },
  {
   "cell_type": "code",
   "execution_count": null,
   "id": "linear-merchandise",
   "metadata": {},
   "outputs": [],
   "source": []
  }
 ],
 "metadata": {
  "kernelspec": {
   "display_name": "Python 3",
   "language": "python",
   "name": "python3"
  },
  "language_info": {
   "codemirror_mode": {
    "name": "ipython",
    "version": 3
   },
   "file_extension": ".py",
   "mimetype": "text/x-python",
   "name": "python",
   "nbconvert_exporter": "python",
   "pygments_lexer": "ipython3",
   "version": "3.8.7"
  }
 },
 "nbformat": 4,
 "nbformat_minor": 5
}
