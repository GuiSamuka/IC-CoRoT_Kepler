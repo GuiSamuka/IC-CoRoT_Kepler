{
 "cells": [
  {
   "cell_type": "markdown",
   "id": "small-uncertainty",
   "metadata": {},
   "source": [
    "# Reading the data \n",
    "\n",
    "---\n",
    "\n",
    "Lately, the _.fits_ data was transformed into _.csv_ and saved in database/csv_files. We are going to import a light curve sample and work with it."
   ]
  },
  {
   "cell_type": "code",
   "execution_count": null,
   "id": "portable-portal",
   "metadata": {},
   "outputs": [],
   "source": [
    "!pip install control\n",
    "from tools import *\n",
    "\n",
    "import pandas as pd\n",
    "import numpy as np"
   ]
  },
  {
   "cell_type": "code",
   "execution_count": 126,
   "id": "harmful-casino",
   "metadata": {},
   "outputs": [],
   "source": [
    "#FILE_PATH = '/content/drive/MyDrive/01 - Iniciação Científica/02 - Datasets/csv_files/EN2_STAR_CHR_0101086161_20070516T060226_20071005T074409.csv'\n",
    "\n",
    "FILE_PATH = 'C:/Users/guisa/Google Drive/01 - Iniciação Científica/02 - Datasets/csv_files/EN2_STAR_CHR_0105833549_20080415T231048_20080907T224903.csv'\n"
   ]
  },
  {
   "cell_type": "code",
   "execution_count": 204,
   "id": "cellular-provider",
   "metadata": {},
   "outputs": [
    {
     "data": {
      "text/html": [
       "<div>\n",
       "<style scoped>\n",
       "    .dataframe tbody tr th:only-of-type {\n",
       "        vertical-align: middle;\n",
       "    }\n",
       "\n",
       "    .dataframe tbody tr th {\n",
       "        vertical-align: top;\n",
       "    }\n",
       "\n",
       "    .dataframe thead th {\n",
       "        text-align: right;\n",
       "    }\n",
       "</style>\n",
       "<table border=\"1\" class=\"dataframe\">\n",
       "  <thead>\n",
       "    <tr style=\"text-align: right;\">\n",
       "      <th></th>\n",
       "      <th>DATE</th>\n",
       "      <th>WHITEFLUX</th>\n",
       "    </tr>\n",
       "  </thead>\n",
       "  <tbody>\n",
       "    <tr>\n",
       "      <th>0</th>\n",
       "      <td>2008-04-16 11:17:01.652367</td>\n",
       "      <td>426155.25</td>\n",
       "    </tr>\n",
       "    <tr>\n",
       "      <th>1</th>\n",
       "      <td>2008-04-16 11:25:33.698232</td>\n",
       "      <td>426286.66</td>\n",
       "    </tr>\n",
       "    <tr>\n",
       "      <th>2</th>\n",
       "      <td>2008-04-16 11:34:05.744056</td>\n",
       "      <td>426893.88</td>\n",
       "    </tr>\n",
       "    <tr>\n",
       "      <th>3</th>\n",
       "      <td>2008-04-16 11:42:37.789881</td>\n",
       "      <td>426608.53</td>\n",
       "    </tr>\n",
       "    <tr>\n",
       "      <th>4</th>\n",
       "      <td>2008-04-16 11:51:09.835706</td>\n",
       "      <td>426326.50</td>\n",
       "    </tr>\n",
       "    <tr>\n",
       "      <th>...</th>\n",
       "      <td>...</td>\n",
       "      <td>...</td>\n",
       "    </tr>\n",
       "    <tr>\n",
       "      <th>24398</th>\n",
       "      <td>2008-09-08 10:14:38.220328</td>\n",
       "      <td>423704.44</td>\n",
       "    </tr>\n",
       "    <tr>\n",
       "      <th>24399</th>\n",
       "      <td>2008-09-08 10:23:10.182025</td>\n",
       "      <td>423994.22</td>\n",
       "    </tr>\n",
       "    <tr>\n",
       "      <th>24400</th>\n",
       "      <td>2008-09-08 10:31:42.143682</td>\n",
       "      <td>423316.50</td>\n",
       "    </tr>\n",
       "    <tr>\n",
       "      <th>24401</th>\n",
       "      <td>2008-09-08 10:40:14.105339</td>\n",
       "      <td>423452.84</td>\n",
       "    </tr>\n",
       "    <tr>\n",
       "      <th>24402</th>\n",
       "      <td>2008-09-08 10:48:46.066915</td>\n",
       "      <td>423277.44</td>\n",
       "    </tr>\n",
       "  </tbody>\n",
       "</table>\n",
       "<p>24403 rows × 2 columns</p>\n",
       "</div>"
      ],
      "text/plain": [
       "                            DATE  WHITEFLUX\n",
       "0     2008-04-16 11:17:01.652367  426155.25\n",
       "1     2008-04-16 11:25:33.698232  426286.66\n",
       "2     2008-04-16 11:34:05.744056  426893.88\n",
       "3     2008-04-16 11:42:37.789881  426608.53\n",
       "4     2008-04-16 11:51:09.835706  426326.50\n",
       "...                          ...        ...\n",
       "24398 2008-09-08 10:14:38.220328  423704.44\n",
       "24399 2008-09-08 10:23:10.182025  423994.22\n",
       "24400 2008-09-08 10:31:42.143682  423316.50\n",
       "24401 2008-09-08 10:40:14.105339  423452.84\n",
       "24402 2008-09-08 10:48:46.066915  423277.44\n",
       "\n",
       "[24403 rows x 2 columns]"
      ]
     },
     "metadata": {},
     "output_type": "display_data"
    }
   ],
   "source": [
    "data_sample = pd.read_csv(FILE_PATH)\n",
    "data_sample.DATE = pd.to_datetime(data_sample.DATE)\n",
    "display(data_sample)"
   ]
  },
  {
   "cell_type": "code",
   "execution_count": 205,
   "id": "returning-crest",
   "metadata": {},
   "outputs": [
    {
     "data": {
      "text/plain": [
       "Timedelta('0 days 00:08:32.045865')"
      ]
     },
     "execution_count": 205,
     "metadata": {},
     "output_type": "execute_result"
    }
   ],
   "source": [
    "data_sample.DATE[1] - data_sample.DATE[0]"
   ]
  },
  {
   "cell_type": "markdown",
   "id": "champion-chicago",
   "metadata": {},
   "source": [
    "### Determinating the sample rate"
   ]
  },
  {
   "cell_type": "code",
   "execution_count": 206,
   "id": "loose-saturday",
   "metadata": {},
   "outputs": [
    {
     "data": {
      "text/html": [
       "<div>\n",
       "<style scoped>\n",
       "    .dataframe tbody tr th:only-of-type {\n",
       "        vertical-align: middle;\n",
       "    }\n",
       "\n",
       "    .dataframe tbody tr th {\n",
       "        vertical-align: top;\n",
       "    }\n",
       "\n",
       "    .dataframe thead th {\n",
       "        text-align: right;\n",
       "    }\n",
       "</style>\n",
       "<table border=\"1\" class=\"dataframe\">\n",
       "  <thead>\n",
       "    <tr style=\"text-align: right;\">\n",
       "      <th></th>\n",
       "      <th>DATE</th>\n",
       "      <th>WHITEFLUX</th>\n",
       "    </tr>\n",
       "  </thead>\n",
       "  <tbody>\n",
       "    <tr>\n",
       "      <th>1</th>\n",
       "      <td>0 days 00:08:32.045865</td>\n",
       "      <td>131.41</td>\n",
       "    </tr>\n",
       "    <tr>\n",
       "      <th>2</th>\n",
       "      <td>0 days 00:08:32.045824</td>\n",
       "      <td>607.22</td>\n",
       "    </tr>\n",
       "    <tr>\n",
       "      <th>3</th>\n",
       "      <td>0 days 00:08:32.045825</td>\n",
       "      <td>-285.35</td>\n",
       "    </tr>\n",
       "    <tr>\n",
       "      <th>4</th>\n",
       "      <td>0 days 00:08:32.045825</td>\n",
       "      <td>-282.03</td>\n",
       "    </tr>\n",
       "    <tr>\n",
       "      <th>5</th>\n",
       "      <td>0 days 00:08:32.045864</td>\n",
       "      <td>160.47</td>\n",
       "    </tr>\n",
       "    <tr>\n",
       "      <th>...</th>\n",
       "      <td>...</td>\n",
       "      <td>...</td>\n",
       "    </tr>\n",
       "    <tr>\n",
       "      <th>24398</th>\n",
       "      <td>0 days 00:08:31.961737</td>\n",
       "      <td>-620.16</td>\n",
       "    </tr>\n",
       "    <tr>\n",
       "      <th>24399</th>\n",
       "      <td>0 days 00:08:31.961697</td>\n",
       "      <td>289.78</td>\n",
       "    </tr>\n",
       "    <tr>\n",
       "      <th>24400</th>\n",
       "      <td>0 days 00:08:31.961657</td>\n",
       "      <td>-677.72</td>\n",
       "    </tr>\n",
       "    <tr>\n",
       "      <th>24401</th>\n",
       "      <td>0 days 00:08:31.961657</td>\n",
       "      <td>136.34</td>\n",
       "    </tr>\n",
       "    <tr>\n",
       "      <th>24402</th>\n",
       "      <td>0 days 00:08:31.961576</td>\n",
       "      <td>-175.40</td>\n",
       "    </tr>\n",
       "  </tbody>\n",
       "</table>\n",
       "<p>24402 rows × 2 columns</p>\n",
       "</div>"
      ],
      "text/plain": [
       "                        DATE  WHITEFLUX\n",
       "1     0 days 00:08:32.045865     131.41\n",
       "2     0 days 00:08:32.045824     607.22\n",
       "3     0 days 00:08:32.045825    -285.35\n",
       "4     0 days 00:08:32.045825    -282.03\n",
       "5     0 days 00:08:32.045864     160.47\n",
       "...                      ...        ...\n",
       "24398 0 days 00:08:31.961737    -620.16\n",
       "24399 0 days 00:08:31.961697     289.78\n",
       "24400 0 days 00:08:31.961657    -677.72\n",
       "24401 0 days 00:08:31.961657     136.34\n",
       "24402 0 days 00:08:31.961576    -175.40\n",
       "\n",
       "[24402 rows x 2 columns]"
      ]
     },
     "execution_count": 206,
     "metadata": {},
     "output_type": "execute_result"
    }
   ],
   "source": [
    "data_sample.diff()[1:]"
   ]
  },
  {
   "cell_type": "code",
   "execution_count": 207,
   "id": "catholic-japan",
   "metadata": {},
   "outputs": [
    {
     "data": {
      "text/plain": [
       "0 days 00:08:32.045221    41\n",
       "0 days 00:08:32.044014    34\n",
       "0 days 00:08:32.045382    33\n",
       "0 days 00:08:32.045583    30\n",
       "0 days 00:08:32.043169    29\n",
       "                          ..\n",
       "0 days 00:08:31.999356     1\n",
       "0 days 00:08:31.989618     1\n",
       "0 days 00:08:32.000159     1\n",
       "0 days 00:08:32.003418     1\n",
       "0 days 00:08:32.024019     1\n",
       "Name: DATE, Length: 3847, dtype: int64"
      ]
     },
     "execution_count": 207,
     "metadata": {},
     "output_type": "execute_result"
    }
   ],
   "source": [
    "data_sample.DATE.diff().value_counts()"
   ]
  },
  {
   "cell_type": "code",
   "execution_count": 208,
   "id": "purple-arrangement",
   "metadata": {},
   "outputs": [
    {
     "data": {
      "text/plain": [
       "Timedelta('0 days 00:08:31.961576')"
      ]
     },
     "execution_count": 208,
     "metadata": {},
     "output_type": "execute_result"
    }
   ],
   "source": [
    "data_sample.DATE.diff().min()"
   ]
  },
  {
   "cell_type": "markdown",
   "id": "spoken-picnic",
   "metadata": {},
   "source": [
    "# Resampling\n"
   ]
  },
  {
   "cell_type": "code",
   "execution_count": 209,
   "id": "obvious-retirement",
   "metadata": {},
   "outputs": [],
   "source": [
    "import os\n",
    "\n",
    "DATA_DIR = 'C:/Users/guisa/Google Drive/01 - Iniciação Científica/02 - Datasets/csv_files'\n",
    "\n",
    "sample_rates = []\n",
    "sample_size = []\n",
    "\n",
    "for root_dir_path, sub_dirs, files in os.walk(DATA_DIR):\n",
    "    for j in range(0, len(files)):\n",
    "        if files[j] != 'desktop.ini':            \n",
    "            path = root_dir_path + \"/\" + files[j]\n",
    "            data = pd.read_csv(path)\n",
    "            data.DATE = pd.to_datetime(data.DATE)\n",
    "            \n",
    "            sample_rates.append(data.DATE.diff().min())    \n",
    "            sample_size.append(len(data.DATE))\n",
    "            \n",
    "            # break\n",
    "        "
   ]
  },
  {
   "cell_type": "code",
   "execution_count": 210,
   "id": "viral-manufacturer",
   "metadata": {},
   "outputs": [
    {
     "name": "stdout",
     "output_type": "stream",
     "text": [
      "Minimum size: 584\n",
      "Median size: 15050\n",
      "Maximum size: 25630\n",
      "\n",
      "[584, 584, 584, 584, 4097, 4097, 4097, 5356, 9228, 9734, 12930, 12930, 12930, 13062, 14100, 14101, 14102, 14725, 15050, 15051, 18840, 19345, 19346, 21548, 22168, 22169, 22169, 23947, 23951, 23952, 24403, 24403, 24404, 24404, 24404, 24456, 25630]\n"
     ]
    }
   ],
   "source": [
    "from statistics import median\n",
    "\n",
    "print(\"Minimum size:\", min(sample_size))\n",
    "print(\"Median size:\", median(sample_size))\n",
    "print(\"Maximum size:\", max(sample_size))\n",
    "print()\n",
    "print(sorted(sample_size))"
   ]
  },
  {
   "cell_type": "markdown",
   "id": "sweet-professor",
   "metadata": {},
   "source": [
    "### Igualar sample size\n",
    "\n",
    "https://www.researchgate.net/post/How-can-I-determine-sample-size-for-analyzing-a-time-series"
   ]
  },
  {
   "cell_type": "code",
   "execution_count": 211,
   "id": "passive-clinic",
   "metadata": {},
   "outputs": [
    {
     "name": "stdout",
     "output_type": "stream",
     "text": [
      "Minimum size: 0 days 00:08:31.935304\n",
      "Average size: 0 days 00:08:31.958318\n",
      "Maximum size: 0 days 00:08:32.036530\n"
     ]
    },
    {
     "data": {
      "text/plain": [
       "[Timedelta('0 days 00:08:31.954897'),\n",
       " Timedelta('0 days 00:08:31.954898'),\n",
       " Timedelta('0 days 00:08:31.953328'),\n",
       " Timedelta('0 days 00:08:31.962260'),\n",
       " Timedelta('0 days 00:08:31.961737'),\n",
       " Timedelta('0 days 00:08:31.956185'),\n",
       " Timedelta('0 days 00:08:31.955300'),\n",
       " Timedelta('0 days 00:08:31.961697'),\n",
       " Timedelta('0 days 00:08:32.003056'),\n",
       " Timedelta('0 days 00:08:31.961576'),\n",
       " Timedelta('0 days 00:08:32.003057'),\n",
       " Timedelta('0 days 00:08:31.961737'),\n",
       " Timedelta('0 days 00:08:31.962019'),\n",
       " Timedelta('0 days 00:08:32.003459'),\n",
       " Timedelta('0 days 00:08:31.956386'),\n",
       " Timedelta('0 days 00:08:31.956346'),\n",
       " Timedelta('0 days 00:08:31.956265'),\n",
       " Timedelta('0 days 00:08:31.956346'),\n",
       " Timedelta('0 days 00:08:31.935304'),\n",
       " Timedelta('0 days 00:08:31.936994'),\n",
       " Timedelta('0 days 00:08:31.937477'),\n",
       " Timedelta('0 days 00:08:32.001850'),\n",
       " Timedelta('0 days 00:08:31.954616'),\n",
       " Timedelta('0 days 00:08:31.962261'),\n",
       " Timedelta('0 days 00:08:31.962059'),\n",
       " Timedelta('0 days 00:08:31.958318'),\n",
       " Timedelta('0 days 00:08:31.961657'),\n",
       " Timedelta('0 days 00:08:32.001849'),\n",
       " Timedelta('0 days 00:08:31.961818'),\n",
       " Timedelta('0 days 00:08:31.949507'),\n",
       " Timedelta('0 days 00:08:31.950069'),\n",
       " Timedelta('0 days 00:08:32.036530'),\n",
       " Timedelta('0 days 00:08:31.956427'),\n",
       " Timedelta('0 days 00:08:32.001568'),\n",
       " Timedelta('0 days 00:08:32.001648'),\n",
       " Timedelta('0 days 00:08:31.956748'),\n",
       " Timedelta('0 days 00:08:31.956346')]"
      ]
     },
     "execution_count": 211,
     "metadata": {},
     "output_type": "execute_result"
    }
   ],
   "source": [
    "print(\"Minimum size:\", min(sample_rates))\n",
    "print(\"Average size:\", median(sample_rates))\n",
    "print(\"Maximum size:\", max(sample_rates))\n",
    "\n",
    "sample_rates"
   ]
  },
  {
   "cell_type": "code",
   "execution_count": 212,
   "id": "supported-pearl",
   "metadata": {},
   "outputs": [],
   "source": [
    "x = data_sample.DATE.to_numpy()"
   ]
  },
  {
   "cell_type": "markdown",
   "id": "prime-permission",
   "metadata": {},
   "source": [
    "https://stackoverflow.com/questions/44653440/histograms-of-data-of-type-datetime64ns-with-proper-axis-labelling\n",
    "\n",
    "https://corot-contributions.readthedocs.io/en/latest/01%20-%20Reading%20and%20Plotting.html#Resampling-series\n",
    "\n",
    "https://www.google.com/search?q=dataset+timeseries+sample+size+issue&sxsrf=ALeKk01yS8GqzEl3NL_0azFLd3YO2Y5EWw:1626365410656&ei=4l3wYKnSJ67P5OUP6PaeoAI&start=10&sa=N&ved=2ahUKEwipy86ku-XxAhWuJ7kGHWi7ByQQ8NMDegQIARBP&biw=1920&bih=937"
   ]
  },
  {
   "cell_type": "code",
   "execution_count": 213,
   "id": "enabling-birmingham",
   "metadata": {},
   "outputs": [
    {
     "ename": "UFuncTypeError",
     "evalue": "ufunc 'multiply' cannot use operands with types dtype('<M8[ns]') and dtype('float64')",
     "output_type": "error",
     "traceback": [
      "\u001b[1;31m---------------------------------------------------------------------------\u001b[0m",
      "\u001b[1;31mUFuncTypeError\u001b[0m                            Traceback (most recent call last)",
      "\u001b[1;32m<ipython-input-213-cb477b63770a>\u001b[0m in \u001b[0;36m<module>\u001b[1;34m\u001b[0m\n\u001b[1;32m----> 1\u001b[1;33m \u001b[0mnp\u001b[0m\u001b[1;33m.\u001b[0m\u001b[0mhistogram\u001b[0m\u001b[1;33m(\u001b[0m\u001b[0mx\u001b[0m\u001b[1;33m)\u001b[0m\u001b[1;33m\u001b[0m\u001b[1;33m\u001b[0m\u001b[0m\n\u001b[0m",
      "\u001b[1;32m<__array_function__ internals>\u001b[0m in \u001b[0;36mhistogram\u001b[1;34m(*args, **kwargs)\u001b[0m\n",
      "\u001b[1;32mc:\\users\\guisa\\appdata\\local\\programs\\python\\python38\\lib\\site-packages\\numpy\\lib\\histograms.py\u001b[0m in \u001b[0;36mhistogram\u001b[1;34m(a, bins, range, normed, weights, density)\u001b[0m\n\u001b[0;32m    790\u001b[0m     \u001b[0ma\u001b[0m\u001b[1;33m,\u001b[0m \u001b[0mweights\u001b[0m \u001b[1;33m=\u001b[0m \u001b[0m_ravel_and_check_weights\u001b[0m\u001b[1;33m(\u001b[0m\u001b[0ma\u001b[0m\u001b[1;33m,\u001b[0m \u001b[0mweights\u001b[0m\u001b[1;33m)\u001b[0m\u001b[1;33m\u001b[0m\u001b[1;33m\u001b[0m\u001b[0m\n\u001b[0;32m    791\u001b[0m \u001b[1;33m\u001b[0m\u001b[0m\n\u001b[1;32m--> 792\u001b[1;33m     \u001b[0mbin_edges\u001b[0m\u001b[1;33m,\u001b[0m \u001b[0muniform_bins\u001b[0m \u001b[1;33m=\u001b[0m \u001b[0m_get_bin_edges\u001b[0m\u001b[1;33m(\u001b[0m\u001b[0ma\u001b[0m\u001b[1;33m,\u001b[0m \u001b[0mbins\u001b[0m\u001b[1;33m,\u001b[0m \u001b[0mrange\u001b[0m\u001b[1;33m,\u001b[0m \u001b[0mweights\u001b[0m\u001b[1;33m)\u001b[0m\u001b[1;33m\u001b[0m\u001b[1;33m\u001b[0m\u001b[0m\n\u001b[0m\u001b[0;32m    793\u001b[0m \u001b[1;33m\u001b[0m\u001b[0m\n\u001b[0;32m    794\u001b[0m     \u001b[1;31m# Histogram is an integer or a float array depending on the weights.\u001b[0m\u001b[1;33m\u001b[0m\u001b[1;33m\u001b[0m\u001b[1;33m\u001b[0m\u001b[0m\n",
      "\u001b[1;32mc:\\users\\guisa\\appdata\\local\\programs\\python\\python38\\lib\\site-packages\\numpy\\lib\\histograms.py\u001b[0m in \u001b[0;36m_get_bin_edges\u001b[1;34m(a, bins, range, weights)\u001b[0m\n\u001b[0;32m    444\u001b[0m \u001b[1;33m\u001b[0m\u001b[0m\n\u001b[0;32m    445\u001b[0m         \u001b[1;31m# bin edges must be computed\u001b[0m\u001b[1;33m\u001b[0m\u001b[1;33m\u001b[0m\u001b[1;33m\u001b[0m\u001b[0m\n\u001b[1;32m--> 446\u001b[1;33m         bin_edges = np.linspace(\n\u001b[0m\u001b[0;32m    447\u001b[0m             \u001b[0mfirst_edge\u001b[0m\u001b[1;33m,\u001b[0m \u001b[0mlast_edge\u001b[0m\u001b[1;33m,\u001b[0m \u001b[0mn_equal_bins\u001b[0m \u001b[1;33m+\u001b[0m \u001b[1;36m1\u001b[0m\u001b[1;33m,\u001b[0m\u001b[1;33m\u001b[0m\u001b[1;33m\u001b[0m\u001b[0m\n\u001b[0;32m    448\u001b[0m             endpoint=True, dtype=bin_type)\n",
      "\u001b[1;32m<__array_function__ internals>\u001b[0m in \u001b[0;36mlinspace\u001b[1;34m(*args, **kwargs)\u001b[0m\n",
      "\u001b[1;32mc:\\users\\guisa\\appdata\\local\\programs\\python\\python38\\lib\\site-packages\\numpy\\core\\function_base.py\u001b[0m in \u001b[0;36mlinspace\u001b[1;34m(start, stop, num, endpoint, retstep, dtype, axis)\u001b[0m\n\u001b[0;32m    118\u001b[0m     \u001b[1;31m# Convert float/complex array scalars to float, gh-3504\u001b[0m\u001b[1;33m\u001b[0m\u001b[1;33m\u001b[0m\u001b[1;33m\u001b[0m\u001b[0m\n\u001b[0;32m    119\u001b[0m     \u001b[1;31m# and make sure one can use variables that have an __array_interface__, gh-6634\u001b[0m\u001b[1;33m\u001b[0m\u001b[1;33m\u001b[0m\u001b[1;33m\u001b[0m\u001b[0m\n\u001b[1;32m--> 120\u001b[1;33m     \u001b[0mstart\u001b[0m \u001b[1;33m=\u001b[0m \u001b[0masanyarray\u001b[0m\u001b[1;33m(\u001b[0m\u001b[0mstart\u001b[0m\u001b[1;33m)\u001b[0m \u001b[1;33m*\u001b[0m \u001b[1;36m1.0\u001b[0m\u001b[1;33m\u001b[0m\u001b[1;33m\u001b[0m\u001b[0m\n\u001b[0m\u001b[0;32m    121\u001b[0m     \u001b[0mstop\u001b[0m  \u001b[1;33m=\u001b[0m \u001b[0masanyarray\u001b[0m\u001b[1;33m(\u001b[0m\u001b[0mstop\u001b[0m\u001b[1;33m)\u001b[0m  \u001b[1;33m*\u001b[0m \u001b[1;36m1.0\u001b[0m\u001b[1;33m\u001b[0m\u001b[1;33m\u001b[0m\u001b[0m\n\u001b[0;32m    122\u001b[0m \u001b[1;33m\u001b[0m\u001b[0m\n",
      "\u001b[1;31mUFuncTypeError\u001b[0m: ufunc 'multiply' cannot use operands with types dtype('<M8[ns]') and dtype('float64')"
     ]
    }
   ],
   "source": [
    "np.histogram(x)"
   ]
  },
  {
   "cell_type": "code",
   "execution_count": null,
   "id": "diverse-maria",
   "metadata": {},
   "outputs": [],
   "source": []
  },
  {
   "cell_type": "code",
   "execution_count": null,
   "id": "handmade-relationship",
   "metadata": {},
   "outputs": [],
   "source": []
  },
  {
   "cell_type": "code",
   "execution_count": null,
   "id": "acquired-retail",
   "metadata": {},
   "outputs": [],
   "source": []
  },
  {
   "cell_type": "code",
   "execution_count": null,
   "id": "designed-holocaust",
   "metadata": {},
   "outputs": [],
   "source": []
  },
  {
   "cell_type": "code",
   "execution_count": null,
   "id": "fossil-momentum",
   "metadata": {},
   "outputs": [],
   "source": []
  }
 ],
 "metadata": {
  "kernelspec": {
   "display_name": "Python 3",
   "language": "python",
   "name": "python3"
  },
  "language_info": {
   "codemirror_mode": {
    "name": "ipython",
    "version": 3
   },
   "file_extension": ".py",
   "mimetype": "text/x-python",
   "name": "python",
   "nbconvert_exporter": "python",
   "pygments_lexer": "ipython3",
   "version": "3.8.7"
  }
 },
 "nbformat": 4,
 "nbformat_minor": 5
}
